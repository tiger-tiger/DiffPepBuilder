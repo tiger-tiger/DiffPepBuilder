{
 "cells": [
  {
   "cell_type": "code",
   "id": "initial_id",
   "metadata": {
    "collapsed": true,
    "ExecuteTime": {
     "end_time": "2024-12-31T02:56:35.387135Z",
     "start_time": "2024-12-31T02:56:35.380339Z"
    }
   },
   "source": [
    "from Bio import PDB\n",
    "import numpy as np"
   ],
   "outputs": [],
   "execution_count": 12
  },
  {
   "metadata": {
    "ExecuteTime": {
     "end_time": "2024-12-19T07:37:16.723811Z",
     "start_time": "2024-12-19T07:37:16.716680Z"
    }
   },
   "cell_type": "code",
   "source": "pdb_io = PDB.PDBParser()",
   "id": "dd846eff624d91df",
   "outputs": [],
   "execution_count": 2
  },
  {
   "metadata": {
    "ExecuteTime": {
     "end_time": "2024-12-19T07:39:35.034428Z",
     "start_time": "2024-12-19T07:39:34.784375Z"
    }
   },
   "cell_type": "code",
   "source": "protein_01 = pdb_io.get_structure('PDB01', '../3dzf.pdb')[0]",
   "id": "b435c0f1f2dce24d",
   "outputs": [
    {
     "name": "stderr",
     "output_type": "stream",
     "text": [
      "/home/jack/miniconda3/envs/py39/lib/python3.9/site-packages/Bio/PDB/StructureBuilder.py:100: PDBConstructionWarning: WARNING: Chain A is discontinuous at line 13323.\n",
      "  warnings.warn(\n",
      "/home/jack/miniconda3/envs/py39/lib/python3.9/site-packages/Bio/PDB/StructureBuilder.py:100: PDBConstructionWarning: WARNING: Chain B is discontinuous at line 13336.\n",
      "  warnings.warn(\n",
      "/home/jack/miniconda3/envs/py39/lib/python3.9/site-packages/Bio/PDB/StructureBuilder.py:100: PDBConstructionWarning: WARNING: Chain C is discontinuous at line 13349.\n",
      "  warnings.warn(\n",
      "/home/jack/miniconda3/envs/py39/lib/python3.9/site-packages/Bio/PDB/StructureBuilder.py:100: PDBConstructionWarning: WARNING: Chain D is discontinuous at line 13362.\n",
      "  warnings.warn(\n",
      "/home/jack/miniconda3/envs/py39/lib/python3.9/site-packages/Bio/PDB/StructureBuilder.py:100: PDBConstructionWarning: WARNING: Chain E is discontinuous at line 13375.\n",
      "  warnings.warn(\n",
      "/home/jack/miniconda3/envs/py39/lib/python3.9/site-packages/Bio/PDB/StructureBuilder.py:100: PDBConstructionWarning: WARNING: Chain F is discontinuous at line 13388.\n",
      "  warnings.warn(\n",
      "/home/jack/miniconda3/envs/py39/lib/python3.9/site-packages/Bio/PDB/StructureBuilder.py:100: PDBConstructionWarning: WARNING: Chain A is discontinuous at line 13401.\n",
      "  warnings.warn(\n",
      "/home/jack/miniconda3/envs/py39/lib/python3.9/site-packages/Bio/PDB/StructureBuilder.py:100: PDBConstructionWarning: WARNING: Chain B is discontinuous at line 13499.\n",
      "  warnings.warn(\n",
      "/home/jack/miniconda3/envs/py39/lib/python3.9/site-packages/Bio/PDB/StructureBuilder.py:100: PDBConstructionWarning: WARNING: Chain C is discontinuous at line 13611.\n",
      "  warnings.warn(\n",
      "/home/jack/miniconda3/envs/py39/lib/python3.9/site-packages/Bio/PDB/StructureBuilder.py:100: PDBConstructionWarning: WARNING: Chain D is discontinuous at line 13704.\n",
      "  warnings.warn(\n",
      "/home/jack/miniconda3/envs/py39/lib/python3.9/site-packages/Bio/PDB/StructureBuilder.py:100: PDBConstructionWarning: WARNING: Chain E is discontinuous at line 13785.\n",
      "  warnings.warn(\n",
      "/home/jack/miniconda3/envs/py39/lib/python3.9/site-packages/Bio/PDB/StructureBuilder.py:100: PDBConstructionWarning: WARNING: Chain F is discontinuous at line 13900.\n",
      "  warnings.warn(\n"
     ]
    }
   ],
   "execution_count": 4
  },
  {
   "metadata": {
    "ExecuteTime": {
     "end_time": "2024-12-19T07:42:10.399168Z",
     "start_time": "2024-12-19T07:42:10.389662Z"
    }
   },
   "cell_type": "code",
   "source": [
    "for res in protein_01.get_residues():\n",
    "    print(res.id[1],res.resname, res.get_parent().id)\n",
    "    print(res)\n",
    "    break\n",
    "    "
   ],
   "id": "f3aff022e053a6ea",
   "outputs": [
    {
     "name": "stdout",
     "output_type": "stream",
     "text": [
      "45 ARG A\n",
      "<Residue ARG het=  resseq=45 icode= >\n"
     ]
    }
   ],
   "execution_count": 7
  },
  {
   "metadata": {
    "ExecuteTime": {
     "end_time": "2024-12-31T02:46:34.858012Z",
     "start_time": "2024-12-31T02:46:34.848516Z"
    }
   },
   "cell_type": "code",
   "source": "a=[1, 2, 3]",
   "id": "14597767ca35eb6a",
   "outputs": [],
   "execution_count": 8
  },
  {
   "metadata": {
    "ExecuteTime": {
     "end_time": "2024-12-31T02:46:48.056024Z",
     "start_time": "2024-12-31T02:46:48.048624Z"
    }
   },
   "cell_type": "code",
   "source": "a.extend([-1] * 3 )",
   "id": "5b600d6eb65bd006",
   "outputs": [],
   "execution_count": 9
  },
  {
   "metadata": {
    "ExecuteTime": {
     "end_time": "2024-12-31T02:46:53.265902Z",
     "start_time": "2024-12-31T02:46:53.247720Z"
    }
   },
   "cell_type": "code",
   "source": "a",
   "id": "6ac5c39891f6edf1",
   "outputs": [
    {
     "data": {
      "text/plain": [
       "[1, 2, 3, -1, -1, -1]"
      ]
     },
     "execution_count": 10,
     "metadata": {},
     "output_type": "execute_result"
    }
   ],
   "execution_count": 10
  },
  {
   "metadata": {
    "ExecuteTime": {
     "end_time": "2024-12-31T07:00:49.040450Z",
     "start_time": "2024-12-31T07:00:49.033517Z"
    }
   },
   "cell_type": "code",
   "source": "onehotmat = np.eye(10)",
   "id": "493314592dd997e4",
   "outputs": [],
   "execution_count": 14
  },
  {
   "metadata": {
    "ExecuteTime": {
     "end_time": "2024-12-31T07:01:16.501253Z",
     "start_time": "2024-12-31T07:01:16.490194Z"
    }
   },
   "cell_type": "code",
   "source": "onehotmat[[0,2,1]]",
   "id": "b705ee911cdd363f",
   "outputs": [
    {
     "data": {
      "text/plain": [
       "array([[1., 0., 0., 0., 0., 0., 0., 0., 0., 0.],\n",
       "       [0., 0., 1., 0., 0., 0., 0., 0., 0., 0.],\n",
       "       [0., 1., 0., 0., 0., 0., 0., 0., 0., 0.]])"
      ]
     },
     "execution_count": 16,
     "metadata": {},
     "output_type": "execute_result"
    }
   ],
   "execution_count": 16
  },
  {
   "metadata": {},
   "cell_type": "code",
   "outputs": [],
   "execution_count": null,
   "source": "",
   "id": "61d8d5ad9c51fc96"
  }
 ],
 "metadata": {
  "kernelspec": {
   "display_name": "Python 3",
   "language": "python",
   "name": "python3"
  },
  "language_info": {
   "codemirror_mode": {
    "name": "ipython",
    "version": 2
   },
   "file_extension": ".py",
   "mimetype": "text/x-python",
   "name": "python",
   "nbconvert_exporter": "python",
   "pygments_lexer": "ipython2",
   "version": "2.7.6"
  }
 },
 "nbformat": 4,
 "nbformat_minor": 5
}
