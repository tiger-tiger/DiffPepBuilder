{
 "cells": [
  {
   "metadata": {},
   "cell_type": "markdown",
   "source": "# THIS IS FROM COLAB SO3 DIFFUSION EXAMPLE",
   "id": "53d25bafdc7e1df5"
  },
  {
   "metadata": {
    "ExecuteTime": {
     "end_time": "2025-04-11T07:19:29.109479Z",
     "start_time": "2025-04-11T07:19:27.324803Z"
    }
   },
   "cell_type": "code",
   "source": [
    "import torch\n",
    "torch.set_default_dtype(torch.float64)\n",
    "import numpy as np\n",
    "np.random.seed(42)\n",
    "import matplotlib.pyplot as plt \n",
    "from scipy.spatial.transform import Rotation as R \n"
   ],
   "id": "b6baf741f57aca1",
   "outputs": [],
   "execution_count": 1
  },
  {
   "metadata": {
    "ExecuteTime": {
     "end_time": "2025-04-11T07:19:30.212637Z",
     "start_time": "2025-04-11T07:19:30.194725Z"
    }
   },
   "cell_type": "code",
   "source": "R",
   "id": "21b404ecace2bcbd",
   "outputs": [
    {
     "data": {
      "text/plain": [
       "scipy.spatial.transform._rotation.Rotation"
      ]
     },
     "execution_count": 2,
     "metadata": {},
     "output_type": "execute_result"
    }
   ],
   "execution_count": 2
  },
  {
   "metadata": {
    "ExecuteTime": {
     "end_time": "2025-04-11T07:36:20.986843Z",
     "start_time": "2025-04-11T07:36:20.974247Z"
    }
   },
   "cell_type": "code",
   "source": [
    "basis = torch.tensor([\n",
    "    [[0., 0., 0.], [0., 0., -1.], [0., 1., 0.]], \n",
    "    [[0., 0., 1.0], [0., 0., 0.], [-1., 0., 0.]], \n",
    "    [[0., -1., 0.], [1., 0., 0.], [0., 0., 0.]]])"
   ],
   "id": "36ca1d15d39b3e5c",
   "outputs": [],
   "execution_count": 5
  },
  {
   "metadata": {
    "ExecuteTime": {
     "end_time": "2025-04-11T07:37:20.733613Z",
     "start_time": "2025-04-11T07:37:20.725707Z"
    }
   },
   "cell_type": "code",
   "source": [
    "# hat map from vector space R^3 to Lie algebra so(3)\n",
    "def hat(v): return torch.einsum('...i, ijk->...jk', v, basis)"
   ],
   "id": "59c96a28f0ba3558",
   "outputs": [],
   "execution_count": 6
  },
  {
   "metadata": {},
   "cell_type": "code",
   "outputs": [],
   "execution_count": null,
   "source": "",
   "id": "1418491bbbb67326"
  }
 ],
 "metadata": {
  "kernelspec": {
   "display_name": "Python 3",
   "language": "python",
   "name": "python3"
  },
  "language_info": {
   "codemirror_mode": {
    "name": "ipython",
    "version": 2
   },
   "file_extension": ".py",
   "mimetype": "text/x-python",
   "name": "python",
   "nbconvert_exporter": "python",
   "pygments_lexer": "ipython2",
   "version": "2.7.6"
  }
 },
 "nbformat": 4,
 "nbformat_minor": 5
}
