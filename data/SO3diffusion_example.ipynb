{
 "cells": [
  {
   "metadata": {},
   "cell_type": "markdown",
   "source": "# THIS IS FROM COLAB SO3 DIFFUSION EXAMPLE",
   "id": "53d25bafdc7e1df5"
  },
  {
   "metadata": {
    "ExecuteTime": {
     "end_time": "2025-04-22T02:46:12.704695Z",
     "start_time": "2025-04-22T02:46:10.067660Z"
    }
   },
   "cell_type": "code",
   "source": [
    "import torch\n",
    "torch.set_default_dtype(torch.float64)\n",
    "import numpy as np\n",
    "np.random.seed(42)\n",
    "import matplotlib.pyplot as plt \n",
    "from scipy.spatial.transform import Rotation\n"
   ],
   "id": "b6baf741f57aca1",
   "outputs": [],
   "execution_count": 1
  },
  {
   "metadata": {
    "ExecuteTime": {
     "end_time": "2025-04-11T07:19:30.212637Z",
     "start_time": "2025-04-11T07:19:30.194725Z"
    }
   },
   "cell_type": "code",
   "source": "",
   "id": "21b404ecace2bcbd",
   "outputs": [
    {
     "data": {
      "text/plain": [
       "scipy.spatial.transform._rotation.Rotation"
      ]
     },
     "execution_count": 2,
     "metadata": {},
     "output_type": "execute_result"
    }
   ],
   "execution_count": 2
  },
  {
   "metadata": {
    "ExecuteTime": {
     "end_time": "2025-04-22T02:46:32.094997Z",
     "start_time": "2025-04-22T02:46:32.083382Z"
    }
   },
   "cell_type": "code",
   "source": [
    "basis = torch.tensor([\n",
    "    [[0., 0., 0.], [0., 0., -1.], [0., 1., 0.]], \n",
    "    [[0., 0., 1.0], [0., 0., 0.], [-1., 0., 0.]], \n",
    "    [[0., -1., 0.], [1., 0., 0.], [0., 0., 0.]]])"
   ],
   "id": "36ca1d15d39b3e5c",
   "outputs": [],
   "execution_count": 2
  },
  {
   "metadata": {
    "ExecuteTime": {
     "end_time": "2025-04-22T02:46:32.645404Z",
     "start_time": "2025-04-22T02:46:32.640504Z"
    }
   },
   "cell_type": "code",
   "source": [
    "# hat map from vector space R^3 (axis-angle vector) to Lie algebra so(3), convert to skew-symmetric matrices\n",
    "def hat(v): \n",
    "    \"\"\"\n",
    "    Compute the Hat operator of a batc hof 3D vectors\n",
    "    Args:\n",
    "        v: Batch of vectors of shape `(N, 3)`\n",
    "\n",
    "    Returns:\n",
    "        Batch of skew-symmetric matrices of shape `(N, 3, 3)`\n",
    "        i.e each matrix looks like:\n",
    "        [[0, -z, y], \n",
    "        [z, 0, -x], \n",
    "        [-y, x, 0]]\n",
    "        \n",
    "    \"\"\"\n",
    "    return torch.einsum('...i, ijk->...jk', v, basis)"
   ],
   "id": "59c96a28f0ba3558",
   "outputs": [],
   "execution_count": 3
  },
  {
   "metadata": {
    "ExecuteTime": {
     "end_time": "2025-04-22T02:46:33.096822Z",
     "start_time": "2025-04-22T02:46:33.092123Z"
    }
   },
   "cell_type": "code",
   "source": [
    "\n",
    "# logarithmic map from SO(3) to R^3 (i.e. rotation vector)\n",
    "def Log(x): \n",
    "    \"\"\"\n",
    "    Convert a batch of 3x3 rotation matrices R to a batch of 3-dimensional matrix\n",
    "    logarithms of rotation matrices\n",
    "    the conversion has a singularity around `R=I`\n",
    "    Args:\n",
    "        x: batch of rotation matrices of shape `(N, 3, 3)`\n",
    "\n",
    "    Returns:\n",
    "        batch of logarithms of rotation matrices of shape `(N, 3)`\n",
    "    \"\"\"\n",
    "    return torch.tensor(Rotation.from_matrix(x.numpy()).as_rotvec())"
   ],
   "id": "1418491bbbb67326",
   "outputs": [],
   "execution_count": 4
  },
  {
   "metadata": {
    "ExecuteTime": {
     "end_time": "2025-04-22T02:48:09.866799Z",
     "start_time": "2025-04-22T02:48:09.859619Z"
    }
   },
   "cell_type": "code",
   "source": [
    "# logarithmic map from SO(3) to so(3), this the matrix logarithm\n",
    "def log(x): return hat(Log(x))"
   ],
   "id": "6867c4007418959d",
   "outputs": [],
   "execution_count": 5
  },
  {
   "metadata": {
    "ExecuteTime": {
     "end_time": "2025-04-22T05:11:22.204976Z",
     "start_time": "2025-04-22T05:11:22.193426Z"
    }
   },
   "cell_type": "code",
   "source": [
    "# convert so(3) to R3, skew-symmetric matrices to rotation vector\n",
    "def vee(h): \n",
    "    \"\"\"\n",
    "    \n",
    "    Args:\n",
    "        h: batch of skew-symmetric tensors `(N, 3, 3)`\n",
    "\n",
    "    Returns:\n",
    "        Batch of 3d vectors of shape `(N, 3, 3)`\n",
    "    \"\"\"\n",
    "    # skew-symmetric\n",
    "    assert torch.allclose(h, -h.transpose(-1, -2)), \"Input A must be skew symmetric\" \n",
    "    x = h[..., 2, 1]\n",
    "    y = h[..., 0, 2]\n",
    "    z = h[..., 1, 0]\n",
    "    print(\"x:\", x)\n",
    "    v = torch.stack((x, y, z), dim=-1)\n",
    "    return v \n",
    "\n"
   ],
   "id": "1c3ed5bff939d700",
   "outputs": [],
   "execution_count": 17
  },
  {
   "metadata": {
    "ExecuteTime": {
     "end_time": "2025-04-22T05:11:22.604572Z",
     "start_time": "2025-04-22T05:11:22.590774Z"
    }
   },
   "cell_type": "code",
   "source": "vee(basis)",
   "id": "dee391d43c2468cd",
   "outputs": [
    {
     "name": "stdout",
     "output_type": "stream",
     "text": [
      "x: tensor([1., 0., 0.])\n"
     ]
    },
    {
     "data": {
      "text/plain": [
       "tensor([[1., 0., 0.],\n",
       "        [0., 1., 0.],\n",
       "        [0., 0., 1.]])"
      ]
     },
     "execution_count": 18,
     "metadata": {},
     "output_type": "execute_result"
    }
   ],
   "execution_count": 18
  },
  {
   "metadata": {
    "ExecuteTime": {
     "end_time": "2025-04-22T03:19:24.593366Z",
     "start_time": "2025-04-22T03:19:24.583272Z"
    }
   },
   "cell_type": "code",
   "source": "basis.shape",
   "id": "25b961e94eedae63",
   "outputs": [
    {
     "data": {
      "text/plain": [
       "torch.Size([3, 3, 3])"
      ]
     },
     "execution_count": 13,
     "metadata": {},
     "output_type": "execute_result"
    }
   ],
   "execution_count": 13
  },
  {
   "metadata": {},
   "cell_type": "code",
   "outputs": [],
   "execution_count": null,
   "source": "# exponential map from so(3) to SO(3), this is the matrix exponential",
   "id": "62fbb524dcdc9641"
  },
  {
   "metadata": {
    "ExecuteTime": {
     "end_time": "2025-04-22T06:03:50.419837Z",
     "start_time": "2025-04-22T06:03:50.411863Z"
    }
   },
   "cell_type": "code",
   "source": [
    "def exp(r):\n",
    "    \"\"\"\n",
    "    compute so3 exponential map\n",
    "    Args:\n",
    "        r: batch of vectors of shape `(N, 3)` (unit vector)\n",
    "\n",
    "    Returns:\n",
    "        batch of rotation matrices of shape `(N, 3, 3)`\n",
    "    \"\"\"\n",
    "    return torch.linalg.matrix_exp(r)\n"
   ],
   "id": "d75ed67c689f3603",
   "outputs": [],
   "execution_count": 26
  },
  {
   "metadata": {
    "ExecuteTime": {
     "end_time": "2025-04-22T06:10:05.559746Z",
     "start_time": "2025-04-22T06:10:05.549462Z"
    }
   },
   "cell_type": "code",
   "source": [
    "# calc the rotation angle of SO(3)\n",
    "def omega(r):\n",
    "    \"\"\"\n",
    "    \n",
    "    Args:\n",
    "        r: batch of rotation matrices of shape `(N, 3, 3)` (unit)\n",
    "\n",
    "    Returns:\n",
    "       angles \n",
    "\n",
    "    \"\"\"\n",
    "    return torch.arccos((torch.diagonal(r, dim1=-2, dim2=-1).sum(axis = -1) - 1) / 2)\n",
    "\n",
    "# calc the relative rotation angle of r0, r1\n",
    "def angle(r0, r1):\n",
    "    \"\"\"\n",
    "    calculate the angle from r0 to r1\n",
    "    Args:\n",
    "        r0: batch of rotation matrices\n",
    "        r1: batch of rotation matrices\n",
    "\n",
    "    Returns:\n",
    "        batch of angles\n",
    "\n",
    "    \"\"\"\n",
    "    omega(torch.matmul(torch.transpose(r0, -2, -1), r1))"
   ],
   "id": "442f5727ad7870e8",
   "outputs": [],
   "execution_count": 33
  },
  {
   "metadata": {},
   "cell_type": "markdown",
   "source": "# Define IGSO3 density, the geodesic random walk and check their agreement",
   "id": "d45532a062e42026"
  },
  {
   "metadata": {},
   "cell_type": "markdown",
   "source": "",
   "id": "189bb396515a4cd0"
  },
  {
   "metadata": {},
   "cell_type": "code",
   "outputs": [],
   "execution_count": null,
   "source": [
    "# power series expansion in the IGSO3 density\n",
    "def f_igso3(omega, t, L=500):\n",
    "    \"\"\"\n",
    "    density without 1 - cosw / pi (required)\n",
    "    With this reparameterization, IGSO(3) agrees with the Brownian motion on\n",
    "    SO(3) with t=sigma^2 when defined for the canonical inner product on SO3,\n",
    "    <u, v>_SO3 = Trace(u v^T)/2\n",
    "    Args:\n",
    "        omega: rotation angle\n",
    "        t: sigma^2\n",
    "        L: \n",
    "\n",
    "    Returns:\n",
    "        density of rotation angle\n",
    "    \"\"\"\n",
    "    ls = torch.arange(L)[None] # [1, L]\n",
    "    return ((2 * ls + 1) * torch.exp(-ls * (ls + 1) * t / 2) * torch.sin(omega[:, None] * (ls + 1 / 2)) / torch.sin(omega[:, None] / 2)).sum(dim=-1)\n",
    "    \n",
    " "
   ],
   "id": "2d47596857533a3b"
  },
  {
   "metadata": {},
   "cell_type": "code",
   "outputs": [],
   "execution_count": null,
   "source": "",
   "id": "4d02e343746fa36a"
  }
 ],
 "metadata": {
  "kernelspec": {
   "display_name": "Python 3",
   "language": "python",
   "name": "python3"
  },
  "language_info": {
   "codemirror_mode": {
    "name": "ipython",
    "version": 2
   },
   "file_extension": ".py",
   "mimetype": "text/x-python",
   "name": "python",
   "nbconvert_exporter": "python",
   "pygments_lexer": "ipython2",
   "version": "2.7.6"
  }
 },
 "nbformat": 4,
 "nbformat_minor": 5
}
